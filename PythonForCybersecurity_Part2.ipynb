{
 "cells": [
  {
   "cell_type": "code",
   "execution_count": 4,
   "id": "606c6634",
   "metadata": {},
   "outputs": [],
   "source": [
    "# Open and read log file\n",
    "with open(\"Logfile.txt\", \"r\") as file:\n",
    "    logs = file.readlines()\n",
    "\n",
    "unique_ips = set()\n",
    "ip_port_map = {}\n",
    "\n",
    "# Loop through each log line\n",
    "for line in logs:\n",
    "    parts = line.strip().split()  # Split the line by whitespace\n",
    "    if len(parts) >= 2:  # Check if at least IP and Port are present\n",
    "        ip = parts[0]\n",
    "        port = parts[1]\n",
    "        unique_ips.add(ip)  # Store the unique IP\n",
    "        ip_port_map.setdefault(ip, set()).add(port)  # Map the port to the IP"
   ]
  },
  {
   "cell_type": "code",
   "execution_count": 5,
   "id": "e0d1b1bf",
   "metadata": {},
   "outputs": [
    {
     "name": "stdout",
     "output_type": "stream",
     "text": [
      "Unique IP Addresses:\n",
      "10.0.0.25\n",
      "10.0.1.100\n",
      "10.10.10.10\n",
      "172.16.22.11\n",
      "172.16.45.30\n",
      "172.16.5.8\n",
      "192.168.1.1\n",
      "192.168.2.15\n",
      "192.168.3.50\n",
      "192.168.4.5\n",
      "198.51.100.25\n",
      "198.51.100.7\n",
      "203.0.113.10\n",
      "203.0.113.200\n",
      "203.0.113.5\n"
     ]
    }
   ],
   "source": [
    "# Display Unique IP Addresses\n",
    "\n",
    "print(\"Unique IP Addresses:\")\n",
    "for ip in sorted(unique_ips):\n",
    "    print(ip)"
   ]
  },
  {
   "cell_type": "code",
   "execution_count": 6,
   "id": "810af0b3",
   "metadata": {},
   "outputs": [
    {
     "name": "stdout",
     "output_type": "stream",
     "text": [
      "\n",
      "Unique IP Addresses with Ports:\n",
      "192.168.1.1 -> Ports: 443\n",
      "203.0.113.5 -> Ports: 22\n",
      "10.0.0.25 -> Ports: 3306\n",
      "198.51.100.7 -> Ports: 80\n",
      "172.16.45.30 -> Ports: 8080\n",
      "192.168.2.15 -> Ports: 3389\n",
      "198.51.100.25 -> Ports: 443\n",
      "203.0.113.10 -> Ports: 1194\n",
      "192.168.3.50 -> Ports: 80\n",
      "172.16.22.11 -> Ports: 445\n",
      "10.0.1.100 -> Ports: 22\n",
      "192.168.4.5 -> Ports: 53\n",
      "203.0.113.200 -> Ports: 443\n",
      "172.16.5.8 -> Ports: 514\n",
      "10.10.10.10 -> Ports: 23\n"
     ]
    }
   ],
   "source": [
    "#Display Unique IPs with Their Ports\n",
    "\n",
    "print(\"\\nUnique IP Addresses with Ports:\")\n",
    "for ip, ports in ip_port_map.items():\n",
    "    port_list = ', '.join(sorted(ports))\n",
    "    print(f\"{ip} -> Ports: {port_list}\")"
   ]
  },
  {
   "cell_type": "code",
   "execution_count": null,
   "id": "996dd4f9",
   "metadata": {},
   "outputs": [],
   "source": []
  }
 ],
 "metadata": {
  "kernelspec": {
   "display_name": "Python 3 (ipykernel)",
   "language": "python",
   "name": "python3"
  },
  "language_info": {
   "codemirror_mode": {
    "name": "ipython",
    "version": 3
   },
   "file_extension": ".py",
   "mimetype": "text/x-python",
   "name": "python",
   "nbconvert_exporter": "python",
   "pygments_lexer": "ipython3",
   "version": "3.11.5"
  }
 },
 "nbformat": 4,
 "nbformat_minor": 5
}
